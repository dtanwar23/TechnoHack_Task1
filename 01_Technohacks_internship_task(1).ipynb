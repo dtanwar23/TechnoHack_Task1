{
 "cells": [
  {
   "cell_type": "markdown",
   "id": "b25567a4",
   "metadata": {},
   "source": [
    "# Author: Digvijay Singh"
   ]
  },
  {
   "cell_type": "markdown",
   "id": "7c86aa8f",
   "metadata": {},
   "source": [
    "# Technohacks internship task"
   ]
  },
  {
   "cell_type": "code",
   "execution_count": 1,
   "id": "b8ccf277",
   "metadata": {},
   "outputs": [],
   "source": [
    "import pandas as pd\n",
    "import numpy as np\n",
    "import seaborn as sns\n",
    "import matplotlib.pylab as plt\n",
    "%matplotlib inline\n",
    "from scipy.stats import norm\n",
    "from scipy import stats\n"
   ]
  },
  {
   "cell_type": "markdown",
   "id": "3c351c1e",
   "metadata": {},
   "source": [
    "# READING AND UNDERSTANDING OUR DATA "
   ]
  },
  {
   "cell_type": "code",
   "execution_count": 52,
   "id": "67627acd",
   "metadata": {},
   "outputs": [],
   "source": [
    "employee = pd.read_csv('E://EmployeeSampleData//Employee_sample_data.csv',encoding='ISO-8859-1')"
   ]
  },
  {
   "cell_type": "code",
   "execution_count": 53,
   "id": "b98a78b0",
   "metadata": {},
   "outputs": [
    {
     "data": {
      "text/html": [
       "<div>\n",
       "<style scoped>\n",
       "    .dataframe tbody tr th:only-of-type {\n",
       "        vertical-align: middle;\n",
       "    }\n",
       "\n",
       "    .dataframe tbody tr th {\n",
       "        vertical-align: top;\n",
       "    }\n",
       "\n",
       "    .dataframe thead th {\n",
       "        text-align: right;\n",
       "    }\n",
       "</style>\n",
       "<table border=\"1\" class=\"dataframe\">\n",
       "  <thead>\n",
       "    <tr style=\"text-align: right;\">\n",
       "      <th></th>\n",
       "      <th>EEID</th>\n",
       "      <th>Full Name</th>\n",
       "      <th>Job Title</th>\n",
       "      <th>Department</th>\n",
       "      <th>Business Unit</th>\n",
       "      <th>Gender</th>\n",
       "      <th>Ethnicity</th>\n",
       "      <th>Age</th>\n",
       "      <th>Hire Date</th>\n",
       "      <th>Annual Salary</th>\n",
       "      <th>Bonus %</th>\n",
       "      <th>Country</th>\n",
       "      <th>City</th>\n",
       "      <th>Exit Date</th>\n",
       "    </tr>\n",
       "  </thead>\n",
       "  <tbody>\n",
       "    <tr>\n",
       "      <th>0</th>\n",
       "      <td>E02387</td>\n",
       "      <td>Emily Davis</td>\n",
       "      <td>Sr. Manger</td>\n",
       "      <td>IT</td>\n",
       "      <td>Research &amp; Development</td>\n",
       "      <td>Female</td>\n",
       "      <td>Black</td>\n",
       "      <td>55</td>\n",
       "      <td>4/8/2016</td>\n",
       "      <td>$141,604</td>\n",
       "      <td>15%</td>\n",
       "      <td>United States</td>\n",
       "      <td>Seattle</td>\n",
       "      <td>10/16/2021</td>\n",
       "    </tr>\n",
       "    <tr>\n",
       "      <th>1</th>\n",
       "      <td>E04105</td>\n",
       "      <td>Theodore Dinh</td>\n",
       "      <td>Technical Architect</td>\n",
       "      <td>IT</td>\n",
       "      <td>Manufacturing</td>\n",
       "      <td>Male</td>\n",
       "      <td>Asian</td>\n",
       "      <td>59</td>\n",
       "      <td>11/29/1997</td>\n",
       "      <td>$99,975</td>\n",
       "      <td>0%</td>\n",
       "      <td>China</td>\n",
       "      <td>Chongqing</td>\n",
       "      <td>NaN</td>\n",
       "    </tr>\n",
       "    <tr>\n",
       "      <th>2</th>\n",
       "      <td>E02572</td>\n",
       "      <td>Luna Sanders</td>\n",
       "      <td>Director</td>\n",
       "      <td>Finance</td>\n",
       "      <td>Speciality Products</td>\n",
       "      <td>Female</td>\n",
       "      <td>Caucasian</td>\n",
       "      <td>50</td>\n",
       "      <td>10/26/2006</td>\n",
       "      <td>$163,099</td>\n",
       "      <td>20%</td>\n",
       "      <td>United States</td>\n",
       "      <td>Chicago</td>\n",
       "      <td>NaN</td>\n",
       "    </tr>\n",
       "    <tr>\n",
       "      <th>3</th>\n",
       "      <td>E02832</td>\n",
       "      <td>Penelope Jordan</td>\n",
       "      <td>Computer Systems Manager</td>\n",
       "      <td>IT</td>\n",
       "      <td>Manufacturing</td>\n",
       "      <td>Female</td>\n",
       "      <td>Caucasian</td>\n",
       "      <td>26</td>\n",
       "      <td>9/27/2019</td>\n",
       "      <td>$84,913</td>\n",
       "      <td>7%</td>\n",
       "      <td>United States</td>\n",
       "      <td>Chicago</td>\n",
       "      <td>NaN</td>\n",
       "    </tr>\n",
       "    <tr>\n",
       "      <th>4</th>\n",
       "      <td>E01639</td>\n",
       "      <td>Austin Vo</td>\n",
       "      <td>Sr. Analyst</td>\n",
       "      <td>Finance</td>\n",
       "      <td>Manufacturing</td>\n",
       "      <td>Male</td>\n",
       "      <td>Asian</td>\n",
       "      <td>55</td>\n",
       "      <td>11/20/1995</td>\n",
       "      <td>$95,409</td>\n",
       "      <td>0%</td>\n",
       "      <td>United States</td>\n",
       "      <td>Phoenix</td>\n",
       "      <td>NaN</td>\n",
       "    </tr>\n",
       "  </tbody>\n",
       "</table>\n",
       "</div>"
      ],
      "text/plain": [
       "     EEID        Full Name                 Job Title Department  \\\n",
       "0  E02387      Emily Davis                Sr. Manger         IT   \n",
       "1  E04105    Theodore Dinh       Technical Architect         IT   \n",
       "2  E02572     Luna Sanders                  Director    Finance   \n",
       "3  E02832  Penelope Jordan  Computer Systems Manager         IT   \n",
       "4  E01639        Austin Vo               Sr. Analyst    Finance   \n",
       "\n",
       "            Business Unit  Gender  Ethnicity  Age   Hire Date Annual Salary  \\\n",
       "0  Research & Development  Female      Black   55    4/8/2016     $141,604    \n",
       "1           Manufacturing    Male      Asian   59  11/29/1997      $99,975    \n",
       "2     Speciality Products  Female  Caucasian   50  10/26/2006     $163,099    \n",
       "3           Manufacturing  Female  Caucasian   26   9/27/2019      $84,913    \n",
       "4           Manufacturing    Male      Asian   55  11/20/1995      $95,409    \n",
       "\n",
       "  Bonus %        Country       City   Exit Date  \n",
       "0    15%   United States    Seattle  10/16/2021  \n",
       "1     0%           China  Chongqing         NaN  \n",
       "2    20%   United States    Chicago         NaN  \n",
       "3     7%   United States    Chicago         NaN  \n",
       "4     0%   United States    Phoenix         NaN  "
      ]
     },
     "execution_count": 53,
     "metadata": {},
     "output_type": "execute_result"
    }
   ],
   "source": [
    "employee.head()"
   ]
  },
  {
   "cell_type": "markdown",
   "id": "0f9128ce",
   "metadata": {},
   "source": [
    "## From above data we know some attributes have invalid names . We are going to change these name ."
   ]
  },
  {
   "cell_type": "code",
   "execution_count": 54,
   "id": "fd869db3",
   "metadata": {},
   "outputs": [],
   "source": [
    "employee.rename(columns={\"Full Name\":\"Name\",\"Job Title\":\"job_title\",\"Business Unit\":\"Business_unit\",\"Hire Date\":\"Hire_date\",\"Annual Salary\":\"Annual_salary\",\"Bonus %\":\"Bonus\",\"Exit Date\":\"Exite_date\"},inplace=True)"
   ]
  },
  {
   "cell_type": "code",
   "execution_count": 55,
   "id": "1aaa0452",
   "metadata": {},
   "outputs": [
    {
     "data": {
      "text/html": [
       "<div>\n",
       "<style scoped>\n",
       "    .dataframe tbody tr th:only-of-type {\n",
       "        vertical-align: middle;\n",
       "    }\n",
       "\n",
       "    .dataframe tbody tr th {\n",
       "        vertical-align: top;\n",
       "    }\n",
       "\n",
       "    .dataframe thead th {\n",
       "        text-align: right;\n",
       "    }\n",
       "</style>\n",
       "<table border=\"1\" class=\"dataframe\">\n",
       "  <thead>\n",
       "    <tr style=\"text-align: right;\">\n",
       "      <th></th>\n",
       "      <th>EEID</th>\n",
       "      <th>Name</th>\n",
       "      <th>job_title</th>\n",
       "      <th>Department</th>\n",
       "      <th>Business_unit</th>\n",
       "      <th>Gender</th>\n",
       "      <th>Ethnicity</th>\n",
       "      <th>Age</th>\n",
       "      <th>Hire_date</th>\n",
       "      <th>Annual_salary</th>\n",
       "      <th>Bonus</th>\n",
       "      <th>Country</th>\n",
       "      <th>City</th>\n",
       "      <th>Exite_date</th>\n",
       "    </tr>\n",
       "  </thead>\n",
       "  <tbody>\n",
       "    <tr>\n",
       "      <th>0</th>\n",
       "      <td>E02387</td>\n",
       "      <td>Emily Davis</td>\n",
       "      <td>Sr. Manger</td>\n",
       "      <td>IT</td>\n",
       "      <td>Research &amp; Development</td>\n",
       "      <td>Female</td>\n",
       "      <td>Black</td>\n",
       "      <td>55</td>\n",
       "      <td>4/8/2016</td>\n",
       "      <td>$141,604</td>\n",
       "      <td>15%</td>\n",
       "      <td>United States</td>\n",
       "      <td>Seattle</td>\n",
       "      <td>10/16/2021</td>\n",
       "    </tr>\n",
       "    <tr>\n",
       "      <th>1</th>\n",
       "      <td>E04105</td>\n",
       "      <td>Theodore Dinh</td>\n",
       "      <td>Technical Architect</td>\n",
       "      <td>IT</td>\n",
       "      <td>Manufacturing</td>\n",
       "      <td>Male</td>\n",
       "      <td>Asian</td>\n",
       "      <td>59</td>\n",
       "      <td>11/29/1997</td>\n",
       "      <td>$99,975</td>\n",
       "      <td>0%</td>\n",
       "      <td>China</td>\n",
       "      <td>Chongqing</td>\n",
       "      <td>NaN</td>\n",
       "    </tr>\n",
       "    <tr>\n",
       "      <th>2</th>\n",
       "      <td>E02572</td>\n",
       "      <td>Luna Sanders</td>\n",
       "      <td>Director</td>\n",
       "      <td>Finance</td>\n",
       "      <td>Speciality Products</td>\n",
       "      <td>Female</td>\n",
       "      <td>Caucasian</td>\n",
       "      <td>50</td>\n",
       "      <td>10/26/2006</td>\n",
       "      <td>$163,099</td>\n",
       "      <td>20%</td>\n",
       "      <td>United States</td>\n",
       "      <td>Chicago</td>\n",
       "      <td>NaN</td>\n",
       "    </tr>\n",
       "    <tr>\n",
       "      <th>3</th>\n",
       "      <td>E02832</td>\n",
       "      <td>Penelope Jordan</td>\n",
       "      <td>Computer Systems Manager</td>\n",
       "      <td>IT</td>\n",
       "      <td>Manufacturing</td>\n",
       "      <td>Female</td>\n",
       "      <td>Caucasian</td>\n",
       "      <td>26</td>\n",
       "      <td>9/27/2019</td>\n",
       "      <td>$84,913</td>\n",
       "      <td>7%</td>\n",
       "      <td>United States</td>\n",
       "      <td>Chicago</td>\n",
       "      <td>NaN</td>\n",
       "    </tr>\n",
       "    <tr>\n",
       "      <th>4</th>\n",
       "      <td>E01639</td>\n",
       "      <td>Austin Vo</td>\n",
       "      <td>Sr. Analyst</td>\n",
       "      <td>Finance</td>\n",
       "      <td>Manufacturing</td>\n",
       "      <td>Male</td>\n",
       "      <td>Asian</td>\n",
       "      <td>55</td>\n",
       "      <td>11/20/1995</td>\n",
       "      <td>$95,409</td>\n",
       "      <td>0%</td>\n",
       "      <td>United States</td>\n",
       "      <td>Phoenix</td>\n",
       "      <td>NaN</td>\n",
       "    </tr>\n",
       "    <tr>\n",
       "      <th>...</th>\n",
       "      <td>...</td>\n",
       "      <td>...</td>\n",
       "      <td>...</td>\n",
       "      <td>...</td>\n",
       "      <td>...</td>\n",
       "      <td>...</td>\n",
       "      <td>...</td>\n",
       "      <td>...</td>\n",
       "      <td>...</td>\n",
       "      <td>...</td>\n",
       "      <td>...</td>\n",
       "      <td>...</td>\n",
       "      <td>...</td>\n",
       "      <td>...</td>\n",
       "    </tr>\n",
       "    <tr>\n",
       "      <th>995</th>\n",
       "      <td>E03094</td>\n",
       "      <td>Wesley Young</td>\n",
       "      <td>Sr. Analyst</td>\n",
       "      <td>Marketing</td>\n",
       "      <td>Speciality Products</td>\n",
       "      <td>Male</td>\n",
       "      <td>Caucasian</td>\n",
       "      <td>33</td>\n",
       "      <td>9/18/2016</td>\n",
       "      <td>$98,427</td>\n",
       "      <td>0%</td>\n",
       "      <td>United States</td>\n",
       "      <td>Columbus</td>\n",
       "      <td>NaN</td>\n",
       "    </tr>\n",
       "    <tr>\n",
       "      <th>996</th>\n",
       "      <td>E01909</td>\n",
       "      <td>Lillian Khan</td>\n",
       "      <td>Analyst</td>\n",
       "      <td>Finance</td>\n",
       "      <td>Speciality Products</td>\n",
       "      <td>Female</td>\n",
       "      <td>Asian</td>\n",
       "      <td>44</td>\n",
       "      <td>5/31/2010</td>\n",
       "      <td>$47,387</td>\n",
       "      <td>0%</td>\n",
       "      <td>China</td>\n",
       "      <td>Chengdu</td>\n",
       "      <td>1/8/2018</td>\n",
       "    </tr>\n",
       "    <tr>\n",
       "      <th>997</th>\n",
       "      <td>E04398</td>\n",
       "      <td>Oliver Yang</td>\n",
       "      <td>Director</td>\n",
       "      <td>Marketing</td>\n",
       "      <td>Speciality Products</td>\n",
       "      <td>Male</td>\n",
       "      <td>Asian</td>\n",
       "      <td>31</td>\n",
       "      <td>6/10/2019</td>\n",
       "      <td>$176,710</td>\n",
       "      <td>15%</td>\n",
       "      <td>United States</td>\n",
       "      <td>Miami</td>\n",
       "      <td>NaN</td>\n",
       "    </tr>\n",
       "    <tr>\n",
       "      <th>998</th>\n",
       "      <td>E02521</td>\n",
       "      <td>Lily Nguyen</td>\n",
       "      <td>Sr. Analyst</td>\n",
       "      <td>Finance</td>\n",
       "      <td>Speciality Products</td>\n",
       "      <td>Female</td>\n",
       "      <td>Asian</td>\n",
       "      <td>33</td>\n",
       "      <td>1/28/2012</td>\n",
       "      <td>$95,960</td>\n",
       "      <td>0%</td>\n",
       "      <td>China</td>\n",
       "      <td>Chengdu</td>\n",
       "      <td>NaN</td>\n",
       "    </tr>\n",
       "    <tr>\n",
       "      <th>999</th>\n",
       "      <td>E03545</td>\n",
       "      <td>Sofia Cheng</td>\n",
       "      <td>Vice President</td>\n",
       "      <td>Accounting</td>\n",
       "      <td>Corporate</td>\n",
       "      <td>Female</td>\n",
       "      <td>Asian</td>\n",
       "      <td>63</td>\n",
       "      <td>7/26/2020</td>\n",
       "      <td>$216,195</td>\n",
       "      <td>31%</td>\n",
       "      <td>United States</td>\n",
       "      <td>Miami</td>\n",
       "      <td>NaN</td>\n",
       "    </tr>\n",
       "  </tbody>\n",
       "</table>\n",
       "<p>1000 rows × 14 columns</p>\n",
       "</div>"
      ],
      "text/plain": [
       "       EEID             Name                 job_title  Department  \\\n",
       "0    E02387      Emily Davis                Sr. Manger          IT   \n",
       "1    E04105    Theodore Dinh       Technical Architect          IT   \n",
       "2    E02572     Luna Sanders                  Director     Finance   \n",
       "3    E02832  Penelope Jordan  Computer Systems Manager          IT   \n",
       "4    E01639        Austin Vo               Sr. Analyst     Finance   \n",
       "..      ...              ...                       ...         ...   \n",
       "995  E03094     Wesley Young               Sr. Analyst   Marketing   \n",
       "996  E01909     Lillian Khan                   Analyst     Finance   \n",
       "997  E04398      Oliver Yang                  Director   Marketing   \n",
       "998  E02521      Lily Nguyen               Sr. Analyst     Finance   \n",
       "999  E03545      Sofia Cheng            Vice President  Accounting   \n",
       "\n",
       "              Business_unit  Gender  Ethnicity  Age   Hire_date Annual_salary  \\\n",
       "0    Research & Development  Female      Black   55    4/8/2016     $141,604    \n",
       "1             Manufacturing    Male      Asian   59  11/29/1997      $99,975    \n",
       "2       Speciality Products  Female  Caucasian   50  10/26/2006     $163,099    \n",
       "3             Manufacturing  Female  Caucasian   26   9/27/2019      $84,913    \n",
       "4             Manufacturing    Male      Asian   55  11/20/1995      $95,409    \n",
       "..                      ...     ...        ...  ...         ...           ...   \n",
       "995     Speciality Products    Male  Caucasian   33   9/18/2016      $98,427    \n",
       "996     Speciality Products  Female      Asian   44   5/31/2010      $47,387    \n",
       "997     Speciality Products    Male      Asian   31   6/10/2019     $176,710    \n",
       "998     Speciality Products  Female      Asian   33   1/28/2012      $95,960    \n",
       "999               Corporate  Female      Asian   63   7/26/2020     $216,195    \n",
       "\n",
       "    Bonus        Country       City  Exite_date  \n",
       "0    15%   United States    Seattle  10/16/2021  \n",
       "1     0%           China  Chongqing         NaN  \n",
       "2    20%   United States    Chicago         NaN  \n",
       "3     7%   United States    Chicago         NaN  \n",
       "4     0%   United States    Phoenix         NaN  \n",
       "..    ...            ...        ...         ...  \n",
       "995   0%   United States   Columbus         NaN  \n",
       "996   0%           China    Chengdu    1/8/2018  \n",
       "997  15%   United States      Miami         NaN  \n",
       "998   0%           China    Chengdu         NaN  \n",
       "999  31%   United States      Miami         NaN  \n",
       "\n",
       "[1000 rows x 14 columns]"
      ]
     },
     "execution_count": 55,
     "metadata": {},
     "output_type": "execute_result"
    }
   ],
   "source": [
    "employee"
   ]
  },
  {
   "cell_type": "code",
   "execution_count": 56,
   "id": "524ad4ed",
   "metadata": {},
   "outputs": [
    {
     "name": "stdout",
     "output_type": "stream",
     "text": [
      "<class 'pandas.core.frame.DataFrame'>\n",
      "RangeIndex: 1000 entries, 0 to 999\n",
      "Data columns (total 14 columns):\n",
      " #   Column         Non-Null Count  Dtype \n",
      "---  ------         --------------  ----- \n",
      " 0   EEID           1000 non-null   object\n",
      " 1   Name           1000 non-null   object\n",
      " 2   job_title      1000 non-null   object\n",
      " 3   Department     1000 non-null   object\n",
      " 4   Business_unit  1000 non-null   object\n",
      " 5   Gender         1000 non-null   object\n",
      " 6   Ethnicity      1000 non-null   object\n",
      " 7   Age            1000 non-null   int64 \n",
      " 8   Hire_date      1000 non-null   object\n",
      " 9   Annual_salary  1000 non-null   object\n",
      " 10  Bonus          1000 non-null   object\n",
      " 11  Country        1000 non-null   object\n",
      " 12  City           1000 non-null   object\n",
      " 13  Exite_date     85 non-null     object\n",
      "dtypes: int64(1), object(13)\n",
      "memory usage: 109.5+ KB\n"
     ]
    }
   ],
   "source": [
    "employee.info()"
   ]
  },
  {
   "cell_type": "markdown",
   "id": "d0a4d610",
   "metadata": {},
   "source": [
    "## According above output we have 1000 entries and 14 attributes. There is no null value except Exite Date . All Attributes are Object data type except Age (int64).Salary and bonus percentages are integers, as is well known. Therefore,we will convert this to int values before doing this, we will remove Dollar , comma and percentage signs.\n"
   ]
  },
  {
   "cell_type": "code",
   "execution_count": 57,
   "id": "ee38cfe2",
   "metadata": {},
   "outputs": [],
   "source": [
    "employee.Annual_salary=employee.Annual_salary.str.strip('$')"
   ]
  },
  {
   "cell_type": "code",
   "execution_count": 58,
   "id": "d1feae1c",
   "metadata": {},
   "outputs": [
    {
     "data": {
      "text/plain": [
       "0      141,604 \n",
       "1       99,975 \n",
       "2      163,099 \n",
       "3       84,913 \n",
       "4       95,409 \n",
       "         ...   \n",
       "995     98,427 \n",
       "996     47,387 \n",
       "997    176,710 \n",
       "998     95,960 \n",
       "999    216,195 \n",
       "Name: Annual_salary, Length: 1000, dtype: object"
      ]
     },
     "execution_count": 58,
     "metadata": {},
     "output_type": "execute_result"
    }
   ],
   "source": [
    "employee[\"Annual_salary\"]"
   ]
  },
  {
   "cell_type": "code",
   "execution_count": 59,
   "id": "1eac85fa",
   "metadata": {},
   "outputs": [],
   "source": [
    "employee[\"Annual_salary\"]=employee[\"Annual_salary\"].replace({',':''},regex=True)"
   ]
  },
  {
   "cell_type": "code",
   "execution_count": 60,
   "id": "ca278129",
   "metadata": {},
   "outputs": [
    {
     "data": {
      "text/plain": [
       "0      141604 \n",
       "1       99975 \n",
       "2      163099 \n",
       "3       84913 \n",
       "4       95409 \n",
       "        ...   \n",
       "995     98427 \n",
       "996     47387 \n",
       "997    176710 \n",
       "998     95960 \n",
       "999    216195 \n",
       "Name: Annual_salary, Length: 1000, dtype: object"
      ]
     },
     "execution_count": 60,
     "metadata": {},
     "output_type": "execute_result"
    }
   ],
   "source": [
    "employee[\"Annual_salary\"]"
   ]
  },
  {
   "cell_type": "code",
   "execution_count": 61,
   "id": "d2ec8417",
   "metadata": {},
   "outputs": [],
   "source": [
    "employee[\"Bonus\"]=employee[\"Bonus\"].replace({'%':''},regex=True)"
   ]
  },
  {
   "cell_type": "code",
   "execution_count": 62,
   "id": "a4625566",
   "metadata": {},
   "outputs": [
    {
     "data": {
      "text/plain": [
       "0      15 \n",
       "1       0 \n",
       "2      20 \n",
       "3       7 \n",
       "4       0 \n",
       "      ... \n",
       "995     0 \n",
       "996     0 \n",
       "997    15 \n",
       "998     0 \n",
       "999    31 \n",
       "Name: Bonus, Length: 1000, dtype: object"
      ]
     },
     "execution_count": 62,
     "metadata": {},
     "output_type": "execute_result"
    }
   ],
   "source": [
    "employee[\"Bonus\"]"
   ]
  },
  {
   "cell_type": "markdown",
   "id": "8a2a09f4",
   "metadata": {},
   "source": [
    "## Changing both coloums from object to int"
   ]
  },
  {
   "cell_type": "code",
   "execution_count": 63,
   "id": "2e1b6892",
   "metadata": {},
   "outputs": [],
   "source": [
    "employee['Bonus']=employee['Bonus'].astype(str).astype(int)"
   ]
  },
  {
   "cell_type": "code",
   "execution_count": 64,
   "id": "af97b83a",
   "metadata": {},
   "outputs": [],
   "source": [
    "employee['Annual_salary']=employee['Annual_salary'].astype(str).astype(int)"
   ]
  },
  {
   "cell_type": "code",
   "execution_count": 65,
   "id": "1190aacd",
   "metadata": {},
   "outputs": [
    {
     "name": "stdout",
     "output_type": "stream",
     "text": [
      "<class 'pandas.core.frame.DataFrame'>\n",
      "RangeIndex: 1000 entries, 0 to 999\n",
      "Data columns (total 14 columns):\n",
      " #   Column         Non-Null Count  Dtype \n",
      "---  ------         --------------  ----- \n",
      " 0   EEID           1000 non-null   object\n",
      " 1   Name           1000 non-null   object\n",
      " 2   job_title      1000 non-null   object\n",
      " 3   Department     1000 non-null   object\n",
      " 4   Business_unit  1000 non-null   object\n",
      " 5   Gender         1000 non-null   object\n",
      " 6   Ethnicity      1000 non-null   object\n",
      " 7   Age            1000 non-null   int64 \n",
      " 8   Hire_date      1000 non-null   object\n",
      " 9   Annual_salary  1000 non-null   int32 \n",
      " 10  Bonus          1000 non-null   int32 \n",
      " 11  Country        1000 non-null   object\n",
      " 12  City           1000 non-null   object\n",
      " 13  Exite_date     85 non-null     object\n",
      "dtypes: int32(2), int64(1), object(11)\n",
      "memory usage: 101.7+ KB\n"
     ]
    }
   ],
   "source": [
    "employee.info()"
   ]
  },
  {
   "cell_type": "code",
   "execution_count": 66,
   "id": "f58c0606",
   "metadata": {},
   "outputs": [
    {
     "data": {
      "text/plain": [
       "count    1000.000000\n",
       "mean        8.866000\n",
       "std        11.785625\n",
       "min         0.000000\n",
       "25%         0.000000\n",
       "50%         0.000000\n",
       "75%        15.000000\n",
       "max        40.000000\n",
       "Name: Bonus, dtype: float64"
      ]
     },
     "execution_count": 66,
     "metadata": {},
     "output_type": "execute_result"
    }
   ],
   "source": [
    "employee['Bonus'].describe()"
   ]
  },
  {
   "cell_type": "code",
   "execution_count": 67,
   "id": "932fb017",
   "metadata": {},
   "outputs": [
    {
     "data": {
      "text/plain": [
       "count      1000.000000\n",
       "mean     113217.365000\n",
       "std       53545.985644\n",
       "min       40063.000000\n",
       "25%       71430.250000\n",
       "50%       96557.000000\n",
       "75%      150782.250000\n",
       "max      258498.000000\n",
       "Name: Annual_salary, dtype: float64"
      ]
     },
     "execution_count": 67,
     "metadata": {},
     "output_type": "execute_result"
    }
   ],
   "source": [
    "employee['Annual_salary'].describe()"
   ]
  },
  {
   "cell_type": "markdown",
   "id": "3d216293",
   "metadata": {},
   "source": [
    "### Annual_salary and Bonus attribute are changed into int32"
   ]
  },
  {
   "cell_type": "markdown",
   "id": "0f0e0e21",
   "metadata": {},
   "source": [
    "# Task1 : Removing Duplicates "
   ]
  },
  {
   "cell_type": "code",
   "execution_count": 68,
   "id": "d381a7c0",
   "metadata": {},
   "outputs": [
    {
     "data": {
      "text/html": [
       "<div>\n",
       "<style scoped>\n",
       "    .dataframe tbody tr th:only-of-type {\n",
       "        vertical-align: middle;\n",
       "    }\n",
       "\n",
       "    .dataframe tbody tr th {\n",
       "        vertical-align: top;\n",
       "    }\n",
       "\n",
       "    .dataframe thead th {\n",
       "        text-align: right;\n",
       "    }\n",
       "</style>\n",
       "<table border=\"1\" class=\"dataframe\">\n",
       "  <thead>\n",
       "    <tr style=\"text-align: right;\">\n",
       "      <th></th>\n",
       "      <th>EEID</th>\n",
       "      <th>Name</th>\n",
       "      <th>job_title</th>\n",
       "      <th>Department</th>\n",
       "      <th>Business_unit</th>\n",
       "      <th>Gender</th>\n",
       "      <th>Ethnicity</th>\n",
       "      <th>Age</th>\n",
       "      <th>Hire_date</th>\n",
       "      <th>Annual_salary</th>\n",
       "      <th>Bonus</th>\n",
       "      <th>Country</th>\n",
       "      <th>City</th>\n",
       "      <th>Exite_date</th>\n",
       "    </tr>\n",
       "  </thead>\n",
       "  <tbody>\n",
       "    <tr>\n",
       "      <th>148</th>\n",
       "      <td>E01499</td>\n",
       "      <td>Elias Zhang</td>\n",
       "      <td>Solutions Architect</td>\n",
       "      <td>IT</td>\n",
       "      <td>Research &amp; Development</td>\n",
       "      <td>Male</td>\n",
       "      <td>Asian</td>\n",
       "      <td>54</td>\n",
       "      <td>7/13/2013</td>\n",
       "      <td>83639</td>\n",
       "      <td>0</td>\n",
       "      <td>China</td>\n",
       "      <td>Beijing</td>\n",
       "      <td>NaN</td>\n",
       "    </tr>\n",
       "    <tr>\n",
       "      <th>158</th>\n",
       "      <td>E02166</td>\n",
       "      <td>Lucas Thomas</td>\n",
       "      <td>Manager</td>\n",
       "      <td>Accounting</td>\n",
       "      <td>Research &amp; Development</td>\n",
       "      <td>Male</td>\n",
       "      <td>Caucasian</td>\n",
       "      <td>55</td>\n",
       "      <td>4/28/2000</td>\n",
       "      <td>115798</td>\n",
       "      <td>5</td>\n",
       "      <td>United States</td>\n",
       "      <td>Miami</td>\n",
       "      <td>NaN</td>\n",
       "    </tr>\n",
       "    <tr>\n",
       "      <th>159</th>\n",
       "      <td>E00431</td>\n",
       "      <td>Skylar Doan</td>\n",
       "      <td>Sr. Business Partner</td>\n",
       "      <td>Human Resources</td>\n",
       "      <td>Research &amp; Development</td>\n",
       "      <td>Female</td>\n",
       "      <td>Asian</td>\n",
       "      <td>58</td>\n",
       "      <td>8/21/1994</td>\n",
       "      <td>93102</td>\n",
       "      <td>0</td>\n",
       "      <td>United States</td>\n",
       "      <td>Seattle</td>\n",
       "      <td>12/13/2013</td>\n",
       "    </tr>\n",
       "    <tr>\n",
       "      <th>185</th>\n",
       "      <td>E00671</td>\n",
       "      <td>Miles Cho</td>\n",
       "      <td>Systems Analyst</td>\n",
       "      <td>IT</td>\n",
       "      <td>Speciality Products</td>\n",
       "      <td>Male</td>\n",
       "      <td>Asian</td>\n",
       "      <td>47</td>\n",
       "      <td>3/10/1999</td>\n",
       "      <td>49404</td>\n",
       "      <td>0</td>\n",
       "      <td>China</td>\n",
       "      <td>Beijing</td>\n",
       "      <td>NaN</td>\n",
       "    </tr>\n",
       "    <tr>\n",
       "      <th>269</th>\n",
       "      <td>E01525</td>\n",
       "      <td>Charlotte Ruiz</td>\n",
       "      <td>Computer Systems Manager</td>\n",
       "      <td>IT</td>\n",
       "      <td>Manufacturing</td>\n",
       "      <td>Female</td>\n",
       "      <td>Latino</td>\n",
       "      <td>32</td>\n",
       "      <td>10/2/2017</td>\n",
       "      <td>61886</td>\n",
       "      <td>9</td>\n",
       "      <td>Brazil</td>\n",
       "      <td>Rio de Janerio</td>\n",
       "      <td>NaN</td>\n",
       "    </tr>\n",
       "  </tbody>\n",
       "</table>\n",
       "</div>"
      ],
      "text/plain": [
       "       EEID            Name                 job_title       Department  \\\n",
       "148  E01499     Elias Zhang       Solutions Architect               IT   \n",
       "158  E02166    Lucas Thomas                   Manager       Accounting   \n",
       "159  E00431     Skylar Doan      Sr. Business Partner  Human Resources   \n",
       "185  E00671       Miles Cho           Systems Analyst               IT   \n",
       "269  E01525  Charlotte Ruiz  Computer Systems Manager               IT   \n",
       "\n",
       "              Business_unit  Gender  Ethnicity  Age  Hire_date  Annual_salary  \\\n",
       "148  Research & Development    Male      Asian   54  7/13/2013          83639   \n",
       "158  Research & Development    Male  Caucasian   55  4/28/2000         115798   \n",
       "159  Research & Development  Female      Asian   58  8/21/1994          93102   \n",
       "185     Speciality Products    Male      Asian   47  3/10/1999          49404   \n",
       "269           Manufacturing  Female     Latino   32  10/2/2017          61886   \n",
       "\n",
       "     Bonus        Country            City  Exite_date  \n",
       "148      0          China         Beijing         NaN  \n",
       "158      5  United States           Miami         NaN  \n",
       "159      0  United States         Seattle  12/13/2013  \n",
       "185      0          China         Beijing         NaN  \n",
       "269      9         Brazil  Rio de Janerio         NaN  "
      ]
     },
     "execution_count": 68,
     "metadata": {},
     "output_type": "execute_result"
    }
   ],
   "source": [
    "duplicate = employee[employee.duplicated(['EEID'])]\n",
    "duplicate.head()"
   ]
  },
  {
   "cell_type": "markdown",
   "id": "45dbddfe",
   "metadata": {},
   "source": [
    "## EEID attribute have duplicate values . Before removing duplicate values we can check this for all rows"
   ]
  },
  {
   "cell_type": "code",
   "execution_count": 69,
   "id": "13c00c6a",
   "metadata": {},
   "outputs": [
    {
     "data": {
      "text/html": [
       "<div>\n",
       "<style scoped>\n",
       "    .dataframe tbody tr th:only-of-type {\n",
       "        vertical-align: middle;\n",
       "    }\n",
       "\n",
       "    .dataframe tbody tr th {\n",
       "        vertical-align: top;\n",
       "    }\n",
       "\n",
       "    .dataframe thead th {\n",
       "        text-align: right;\n",
       "    }\n",
       "</style>\n",
       "<table border=\"1\" class=\"dataframe\">\n",
       "  <thead>\n",
       "    <tr style=\"text-align: right;\">\n",
       "      <th></th>\n",
       "      <th>EEID</th>\n",
       "      <th>Name</th>\n",
       "      <th>job_title</th>\n",
       "      <th>Department</th>\n",
       "      <th>Business_unit</th>\n",
       "      <th>Gender</th>\n",
       "      <th>Ethnicity</th>\n",
       "      <th>Age</th>\n",
       "      <th>Hire_date</th>\n",
       "      <th>Annual_salary</th>\n",
       "      <th>Bonus</th>\n",
       "      <th>Country</th>\n",
       "      <th>City</th>\n",
       "      <th>Exite_date</th>\n",
       "    </tr>\n",
       "  </thead>\n",
       "  <tbody>\n",
       "  </tbody>\n",
       "</table>\n",
       "</div>"
      ],
      "text/plain": [
       "Empty DataFrame\n",
       "Columns: [EEID, Name, job_title, Department, Business_unit, Gender, Ethnicity, Age, Hire_date, Annual_salary, Bonus, Country, City, Exite_date]\n",
       "Index: []"
      ]
     },
     "execution_count": 69,
     "metadata": {},
     "output_type": "execute_result"
    }
   ],
   "source": [
    "duplicate = employee[employee.duplicated()]\n",
    "duplicate"
   ]
  },
  {
   "cell_type": "markdown",
   "id": "e2a88621",
   "metadata": {},
   "source": [
    "### All row are Distinct"
   ]
  },
  {
   "cell_type": "code",
   "execution_count": 70,
   "id": "8b4db8cd",
   "metadata": {},
   "outputs": [
    {
     "data": {
      "text/html": [
       "<div>\n",
       "<style scoped>\n",
       "    .dataframe tbody tr th:only-of-type {\n",
       "        vertical-align: middle;\n",
       "    }\n",
       "\n",
       "    .dataframe tbody tr th {\n",
       "        vertical-align: top;\n",
       "    }\n",
       "\n",
       "    .dataframe thead th {\n",
       "        text-align: right;\n",
       "    }\n",
       "</style>\n",
       "<table border=\"1\" class=\"dataframe\">\n",
       "  <thead>\n",
       "    <tr style=\"text-align: right;\">\n",
       "      <th></th>\n",
       "      <th>EEID</th>\n",
       "      <th>Name</th>\n",
       "      <th>job_title</th>\n",
       "      <th>Department</th>\n",
       "      <th>Business_unit</th>\n",
       "      <th>Gender</th>\n",
       "      <th>Ethnicity</th>\n",
       "      <th>Age</th>\n",
       "      <th>Hire_date</th>\n",
       "      <th>Annual_salary</th>\n",
       "      <th>Bonus</th>\n",
       "      <th>Country</th>\n",
       "      <th>City</th>\n",
       "      <th>Exite_date</th>\n",
       "    </tr>\n",
       "  </thead>\n",
       "  <tbody>\n",
       "    <tr>\n",
       "      <th>797</th>\n",
       "      <td>E00287</td>\n",
       "      <td>Luca Nelson</td>\n",
       "      <td>Manager</td>\n",
       "      <td>Finance</td>\n",
       "      <td>Speciality Products</td>\n",
       "      <td>Male</td>\n",
       "      <td>Caucasian</td>\n",
       "      <td>60</td>\n",
       "      <td>6/15/2010</td>\n",
       "      <td>106578</td>\n",
       "      <td>9</td>\n",
       "      <td>United States</td>\n",
       "      <td>Miami</td>\n",
       "      <td>NaN</td>\n",
       "    </tr>\n",
       "    <tr>\n",
       "      <th>979</th>\n",
       "      <td>E00287</td>\n",
       "      <td>Maverick Figueroa</td>\n",
       "      <td>IT Systems Architect</td>\n",
       "      <td>IT</td>\n",
       "      <td>Corporate</td>\n",
       "      <td>Male</td>\n",
       "      <td>Latino</td>\n",
       "      <td>48</td>\n",
       "      <td>7/6/2008</td>\n",
       "      <td>94815</td>\n",
       "      <td>0</td>\n",
       "      <td>United States</td>\n",
       "      <td>Chicago</td>\n",
       "      <td>NaN</td>\n",
       "    </tr>\n",
       "  </tbody>\n",
       "</table>\n",
       "</div>"
      ],
      "text/plain": [
       "       EEID               Name             job_title Department  \\\n",
       "797  E00287        Luca Nelson               Manager    Finance   \n",
       "979  E00287  Maverick Figueroa  IT Systems Architect         IT   \n",
       "\n",
       "           Business_unit Gender  Ethnicity  Age  Hire_date  Annual_salary  \\\n",
       "797  Speciality Products   Male  Caucasian   60  6/15/2010         106578   \n",
       "979            Corporate   Male     Latino   48   7/6/2008          94815   \n",
       "\n",
       "     Bonus        Country     City Exite_date  \n",
       "797      9  United States    Miami        NaN  \n",
       "979      0  United States  Chicago        NaN  "
      ]
     },
     "execution_count": 70,
     "metadata": {},
     "output_type": "execute_result"
    }
   ],
   "source": [
    "employee.loc[employee['EEID']=='E00287']"
   ]
  },
  {
   "cell_type": "markdown",
   "id": "3af26a29",
   "metadata": {},
   "source": [
    "### From above both rows have same EEID value but diffrent data values"
   ]
  },
  {
   "cell_type": "markdown",
   "id": "1edd9d18",
   "metadata": {},
   "source": [
    "# Task 2 : Find outliers and fill the missing values  "
   ]
  },
  {
   "cell_type": "code",
   "execution_count": 71,
   "id": "762ce11e",
   "metadata": {},
   "outputs": [
    {
     "data": {
      "text/plain": [
       "EEID               0\n",
       "Name               0\n",
       "job_title          0\n",
       "Department         0\n",
       "Business_unit      0\n",
       "Gender             0\n",
       "Ethnicity          0\n",
       "Age                0\n",
       "Hire_date          0\n",
       "Annual_salary      0\n",
       "Bonus              0\n",
       "Country            0\n",
       "City               0\n",
       "Exite_date       915\n",
       "dtype: int64"
      ]
     },
     "execution_count": 71,
     "metadata": {},
     "output_type": "execute_result"
    }
   ],
   "source": [
    "employee.isnull().sum()"
   ]
  },
  {
   "cell_type": "markdown",
   "id": "034cc4a2",
   "metadata": {},
   "source": [
    "# Only Exite_Date have 915 null values"
   ]
  },
  {
   "cell_type": "markdown",
   "id": "27fd4ec0",
   "metadata": {},
   "source": [
    "## We can remove this Exite_Date attribute . This is because attributes with such high percentages of missing data are unlikely to contribute meaningful information to our analysis.We can fill this based on our understanding that the majority of hired indivisuals are employed with in a company,which is why they may not have an exit date.Therefore , we fill in \"working\" in the place of null values."
   ]
  },
  {
   "cell_type": "code",
   "execution_count": 72,
   "id": "54e25889",
   "metadata": {},
   "outputs": [],
   "source": [
    "employee['Exite_date'].fillna('working',inplace=True)"
   ]
  },
  {
   "cell_type": "code",
   "execution_count": 73,
   "id": "594029b1",
   "metadata": {},
   "outputs": [
    {
     "data": {
      "text/plain": [
       "0      10/16/2021\n",
       "1         working\n",
       "2         working\n",
       "3         working\n",
       "4         working\n",
       "          ...    \n",
       "995       working\n",
       "996      1/8/2018\n",
       "997       working\n",
       "998       working\n",
       "999       working\n",
       "Name: Exite_date, Length: 1000, dtype: object"
      ]
     },
     "execution_count": 73,
     "metadata": {},
     "output_type": "execute_result"
    }
   ],
   "source": [
    "employee['Exite_date']"
   ]
  },
  {
   "cell_type": "code",
   "execution_count": 74,
   "id": "8d5e69d9",
   "metadata": {},
   "outputs": [
    {
     "data": {
      "text/plain": [
       "working       915\n",
       "7/17/2020       2\n",
       "5/1/2021        2\n",
       "4/22/2006       1\n",
       "6/9/2020        1\n",
       "             ... \n",
       "10/11/1998      1\n",
       "10/3/2016       1\n",
       "4/24/2020       1\n",
       "4/14/2005       1\n",
       "1/8/2018        1\n",
       "Name: Exite_date, Length: 84, dtype: int64"
      ]
     },
     "execution_count": 74,
     "metadata": {},
     "output_type": "execute_result"
    }
   ],
   "source": [
    "employee['Exite_date'].value_counts()"
   ]
  },
  {
   "cell_type": "markdown",
   "id": "8a84d552",
   "metadata": {},
   "source": [
    "## Finding outlier  \n",
    "\n",
    "### There are many ways to discover outliers in our data. We can do Uni-variate analysis (using one variable analysis) or Multi-variate analysis (using two or more variables). One of the simplest ways to detect an outlier is to inspect the data visually, by making box plots or scatter plots."
   ]
  },
  {
   "cell_type": "markdown",
   "id": "77ccee24",
   "metadata": {},
   "source": [
    "##  Uni-variate Analysis"
   ]
  },
  {
   "cell_type": "code",
   "execution_count": 75,
   "id": "8a3f85d8",
   "metadata": {},
   "outputs": [
    {
     "data": {
      "text/plain": [
       "<AxesSubplot:xlabel='Annual_salary'>"
      ]
     },
     "execution_count": 75,
     "metadata": {},
     "output_type": "execute_result"
    },
    {
     "data": {
      "image/png": "[encoded data removed]",
      "text/plain": [
       "<Figure size 432x288 with 1 Axes>"
      ]
     },
     "metadata": {
      "needs_background": "light"
     },
     "output_type": "display_data"
    }
   ],
   "source": [
    "sns.boxplot(x=employee['Annual_salary'])"
   ]
  },
  {
   "cell_type": "markdown",
   "id": "5b7bd1c9",
   "metadata": {},
   "source": [
    "### No outliers in Annual_salary attribute."
   ]
  },
  {
   "cell_type": "code",
   "execution_count": 76,
   "id": "59d4f533",
   "metadata": {},
   "outputs": [
    {
     "data": {
      "text/plain": [
       "<AxesSubplot:xlabel='Bonus'>"
      ]
     },
     "execution_count": 76,
     "metadata": {},
     "output_type": "execute_result"
    },
    {
     "data": {
      "image/png": "[encoded data removed]",
      "text/plain": [
       "<Figure size 432x288 with 1 Axes>"
      ]
     },
     "metadata": {
      "needs_background": "light"
     },
     "output_type": "display_data"
    }
   ],
   "source": [
    "sns.boxplot(x=employee['Bonus'])"
   ]
  },
  {
   "cell_type": "markdown",
   "id": "2f6aba56",
   "metadata": {},
   "source": [
    "## Three data points are outside of our box plots in the 'Bonus' . These points are can be actual true data points and do not need to be removed. So, first we will check correlation with others, then we will remove the outliers, which will be required to be removed."
   ]
  },
  {
   "cell_type": "code",
   "execution_count": 77,
   "id": "802852f6",
   "metadata": {},
   "outputs": [
    {
     "data": {
      "text/plain": [
       "<AxesSubplot:xlabel='Age'>"
      ]
     },
     "execution_count": 77,
     "metadata": {},
     "output_type": "execute_result"
    },
    {
     "data": {
      "image/png": "[encoded data removed]",
      "text/plain": [
       "<Figure size 432x288 with 1 Axes>"
      ]
     },
     "metadata": {
      "needs_background": "light"
     },
     "output_type": "display_data"
    }
   ],
   "source": [
    "sns.boxplot(x=employee['Age'])"
   ]
  },
  {
   "cell_type": "markdown",
   "id": "f4d8ec88",
   "metadata": {},
   "source": [
    "### No outliers in Age attribute."
   ]
  },
  {
   "cell_type": "markdown",
   "id": "d9dc7925",
   "metadata": {},
   "source": [
    "# Bi-variate Analysis"
   ]
  },
  {
   "cell_type": "markdown",
   "id": "f6028c80",
   "metadata": {},
   "source": [
    "### We will look at the bi-variate analysis of the two features."
   ]
  },
  {
   "cell_type": "code",
   "execution_count": 78,
   "id": "1110903c",
   "metadata": {},
   "outputs": [
    {
     "data": {
      "image/png": "[encoded data removed]",
      "text/plain": [
       "<Figure size 432x288 with 1 Axes>"
      ]
     },
     "metadata": {
      "needs_background": "light"
     },
     "output_type": "display_data"
    }
   ],
   "source": [
    "price_area = employee.plot.scatter(x='Annual_salary',\n",
    "                      y='Bonus')"
   ]
  },
  {
   "cell_type": "code",
   "execution_count": 79,
   "id": "66040bef",
   "metadata": {},
   "outputs": [
    {
     "data": {
      "image/png": "[encoded data removed]",
      "text/plain": [
       "<Figure size 432x288 with 1 Axes>"
      ]
     },
     "metadata": {
      "needs_background": "light"
     },
     "output_type": "display_data"
    }
   ],
   "source": [
    "price_area = employee.plot.scatter(x='Age',\n",
    "                      y='Bonus')"
   ]
  },
  {
   "cell_type": "code",
   "execution_count": 80,
   "id": "f5f71965",
   "metadata": {},
   "outputs": [
    {
     "data": {
      "image/png": "[encoded data removed]",
      "text/plain": [
       "<Figure size 432x288 with 1 Axes>"
      ]
     },
     "metadata": {
      "needs_background": "light"
     },
     "output_type": "display_data"
    }
   ],
   "source": [
    "price_area = employee.plot.scatter(x='Age',\n",
    "                      y='Annual_salary')"
   ]
  },
  {
   "cell_type": "code",
   "execution_count": 81,
   "id": "5d984511",
   "metadata": {},
   "outputs": [
    {
     "data": {
      "text/plain": [
       "0.9256920811233"
      ]
     },
     "execution_count": 81,
     "metadata": {},
     "output_type": "execute_result"
    }
   ],
   "source": [
    "employee.corr()['Annual_salary']['Bonus']"
   ]
  },
  {
   "cell_type": "code",
   "execution_count": 82,
   "id": "d19292a5",
   "metadata": {},
   "outputs": [
    {
     "data": {
      "text/plain": [
       "-0.02349746756294631"
      ]
     },
     "execution_count": 82,
     "metadata": {},
     "output_type": "execute_result"
    }
   ],
   "source": [
    "employee.corr()['Annual_salary']['Age']"
   ]
  },
  {
   "cell_type": "code",
   "execution_count": 83,
   "id": "cf13d702",
   "metadata": {},
   "outputs": [
    {
     "data": {
      "text/plain": [
       "-0.015555126705960634"
      ]
     },
     "execution_count": 83,
     "metadata": {},
     "output_type": "execute_result"
    }
   ],
   "source": [
    "employee.corr()['Bonus']['Age']"
   ]
  },
  {
   "cell_type": "markdown",
   "id": "6419e66a",
   "metadata": {},
   "source": [
    "### Bonus have correlation nearby 0.93 with annual_salary. So, we don't need to remove outlier from Bonus.Age don't have outliers but this have negative correlation with both Annual salary and Bonus. Outliers can markedly affect our models and can be a valuable source of information, providing us insights about specific behaviours."
   ]
  },
  {
   "cell_type": "markdown",
   "id": "4e5b976d",
   "metadata": {},
   "source": [
    "# Task 3 : Create a histogram to visualize the distribution of data in a dataset"
   ]
  },
  {
   "cell_type": "code",
   "execution_count": 84,
   "id": "8d398c5f",
   "metadata": {},
   "outputs": [
    {
     "data": {
      "text/plain": [
       "array([[<AxesSubplot:title={'center':'Annual_salary'}>]], dtype=object)"
      ]
     },
     "execution_count": 84,
     "metadata": {},
     "output_type": "execute_result"
    },
    {
     "data": {
      "image/png": "[encoded data removed]",
      "text/plain": [
       "<Figure size 432x288 with 1 Axes>"
      ]
     },
     "metadata": {
      "needs_background": "light"
     },
     "output_type": "display_data"
    }
   ],
   "source": [
    "employee.hist(column='Annual_salary')"
   ]
  },
  {
   "cell_type": "code",
   "execution_count": 85,
   "id": "13aafb59",
   "metadata": {},
   "outputs": [
    {
     "data": {
      "text/plain": [
       "array([[<AxesSubplot:title={'center':'Bonus'}>]], dtype=object)"
      ]
     },
     "execution_count": 85,
     "metadata": {},
     "output_type": "execute_result"
    },
    {
     "data": {
      "image/png": "[encoded data removed]",
      "text/plain": [
       "<Figure size 432x288 with 1 Axes>"
      ]
     },
     "metadata": {
      "needs_background": "light"
     },
     "output_type": "display_data"
    }
   ],
   "source": [
    "employee.hist(column='Bonus')"
   ]
  },
  {
   "cell_type": "code",
   "execution_count": 86,
   "id": "3d22d85e",
   "metadata": {},
   "outputs": [
    {
     "data": {
      "text/plain": [
       "array([[<AxesSubplot:title={'center':'Age'}>]], dtype=object)"
      ]
     },
     "execution_count": 86,
     "metadata": {},
     "output_type": "execute_result"
    },
    {
     "data": {
      "image/png": "[encoded data removed]",
      "text/plain": [
       "<Figure size 432x288 with 1 Axes>"
      ]
     },
     "metadata": {
      "needs_background": "light"
     },
     "output_type": "display_data"
    }
   ],
   "source": [
    "employee.hist(column='Age')"
   ]
  },
  {
   "cell_type": "markdown",
   "id": "11941d34",
   "metadata": {},
   "source": [
    "# Task 4 : Calculate Summary statistics of Data\n",
    "### Mean, Median , Standard Deviation , Min , Max , 25% , 50% , 75%"
   ]
  },
  {
   "cell_type": "code",
   "execution_count": 88,
   "id": "bffe48a8",
   "metadata": {},
   "outputs": [
    {
     "data": {
      "text/html": [
       "<div>\n",
       "<style scoped>\n",
       "    .dataframe tbody tr th:only-of-type {\n",
       "        vertical-align: middle;\n",
       "    }\n",
       "\n",
       "    .dataframe tbody tr th {\n",
       "        vertical-align: top;\n",
       "    }\n",
       "\n",
       "    .dataframe thead th {\n",
       "        text-align: right;\n",
       "    }\n",
       "</style>\n",
       "<table border=\"1\" class=\"dataframe\">\n",
       "  <thead>\n",
       "    <tr style=\"text-align: right;\">\n",
       "      <th></th>\n",
       "      <th>Age</th>\n",
       "      <th>Annual_salary</th>\n",
       "      <th>Bonus</th>\n",
       "    </tr>\n",
       "  </thead>\n",
       "  <tbody>\n",
       "    <tr>\n",
       "      <th>count</th>\n",
       "      <td>1000.000000</td>\n",
       "      <td>1000.000000</td>\n",
       "      <td>1000.000000</td>\n",
       "    </tr>\n",
       "    <tr>\n",
       "      <th>mean</th>\n",
       "      <td>44.382000</td>\n",
       "      <td>113217.365000</td>\n",
       "      <td>8.866000</td>\n",
       "    </tr>\n",
       "    <tr>\n",
       "      <th>std</th>\n",
       "      <td>11.246981</td>\n",
       "      <td>53545.985644</td>\n",
       "      <td>11.785625</td>\n",
       "    </tr>\n",
       "    <tr>\n",
       "      <th>min</th>\n",
       "      <td>25.000000</td>\n",
       "      <td>40063.000000</td>\n",
       "      <td>0.000000</td>\n",
       "    </tr>\n",
       "    <tr>\n",
       "      <th>25%</th>\n",
       "      <td>35.000000</td>\n",
       "      <td>71430.250000</td>\n",
       "      <td>0.000000</td>\n",
       "    </tr>\n",
       "    <tr>\n",
       "      <th>50%</th>\n",
       "      <td>45.000000</td>\n",
       "      <td>96557.000000</td>\n",
       "      <td>0.000000</td>\n",
       "    </tr>\n",
       "    <tr>\n",
       "      <th>75%</th>\n",
       "      <td>54.000000</td>\n",
       "      <td>150782.250000</td>\n",
       "      <td>15.000000</td>\n",
       "    </tr>\n",
       "    <tr>\n",
       "      <th>max</th>\n",
       "      <td>65.000000</td>\n",
       "      <td>258498.000000</td>\n",
       "      <td>40.000000</td>\n",
       "    </tr>\n",
       "  </tbody>\n",
       "</table>\n",
       "</div>"
      ],
      "text/plain": [
       "               Age  Annual_salary        Bonus\n",
       "count  1000.000000    1000.000000  1000.000000\n",
       "mean     44.382000  113217.365000     8.866000\n",
       "std      11.246981   53545.985644    11.785625\n",
       "min      25.000000   40063.000000     0.000000\n",
       "25%      35.000000   71430.250000     0.000000\n",
       "50%      45.000000   96557.000000     0.000000\n",
       "75%      54.000000  150782.250000    15.000000\n",
       "max      65.000000  258498.000000    40.000000"
      ]
     },
     "execution_count": 88,
     "metadata": {},
     "output_type": "execute_result"
    }
   ],
   "source": [
    "employee.describe()"
   ]
  },
  {
   "cell_type": "markdown",
   "id": "3ac972f0",
   "metadata": {},
   "source": [
    "# THANKYOU Team Technohacks for the opportunity to work ."
   ]
  }
 ],
 "metadata": {
  "kernelspec": {
   "display_name": "Python 3 (ipykernel)",
   "language": "python",
   "name": "python3"
  },
  "language_info": {
   "codemirror_mode": {
    "name": "ipython",
    "version": 3
   },
   "file_extension": ".py",
   "mimetype": "text/x-python",
   "name": "python",
   "nbconvert_exporter": "python",
   "pygments_lexer": "ipython3",
   "version": "3.9.7"
  }
 },
 "nbformat": 4,
 "nbformat_minor": 5
}
